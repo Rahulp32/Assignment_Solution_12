{
 "cells": [
  {
   "cell_type": "markdown",
   "id": "1859547a-36d1-47f9-807b-db5b80e8b110",
   "metadata": {},
   "source": [
    "# 12_February_12th_Assignment"
   ]
  },
  {
   "cell_type": "code",
   "execution_count": null,
   "id": "c399b142-ca34-42d5-b42c-4d3bdff03be6",
   "metadata": {},
   "outputs": [],
   "source": []
  },
  {
   "cell_type": "markdown",
   "id": "de1bf1b5-b724-4db0-9234-73554818b84c",
   "metadata": {},
   "source": [
    "## Q1. What is an Exception in python? Write the difference between Exceptions and Syntax errors."
   ]
  },
  {
   "cell_type": "markdown",
   "id": "e93ff90e-8580-402c-89b9-dcd98da24a06",
   "metadata": {},
   "source": [
    "### An **exception** in Python is an error that occurs during the execution of a program. Unlike syntax errors, exceptions are raised when a program is syntactically correct but encounters an issue during runtime. Examples of exceptions include division by zero, file not found, or accessing a non-existent key in a dictionary.\n",
    "\n",
    "#### **Example of an Exception:**\n"
   ]
  },
  {
   "cell_type": "code",
   "execution_count": 9,
   "id": "ecb02662-9d20-40ee-93e8-7475fe26dc38",
   "metadata": {},
   "outputs": [
    {
     "name": "stdout",
     "output_type": "stream",
     "text": [
      "Exception caught: division by zero\n"
     ]
    }
   ],
   "source": [
    "\n",
    "try:\n",
    "    result = 10 / 0  # Division by zero raises an exception\n",
    "except ZeroDivisionError as e:\n",
    "    print(f\"Exception caught: {e}\")\n"
   ]
  },
  {
   "cell_type": "markdown",
   "id": "b1b8e266-1fee-41fb-a7b0-0574b3f8227e",
   "metadata": {},
   "source": [
    "\n",
    "---\n",
    "\n",
    "### **Difference Between Exceptions and Syntax Errors**\n",
    "\n",
    "| **Aspect**         | **Exception**                              | **Syntax Error**                         |\n",
    "|---------------------|--------------------------------------------|------------------------------------------|\n",
    "| **Definition**      | An error that occurs during program execution. | An error in the program's syntax.        |\n",
    "| **When Occurs**     | Occurs at runtime.                        | Occurs during the parsing of the code.   |\n",
    "| **Detection**       | Detected when the program runs.           | Detected before the program runs.        |\n",
    "| **Handling**        | Can be handled using `try-except` blocks. | Cannot be handled; needs to be corrected in the code. |\n",
    "| **Example**         | `10 / 0` → Raises `ZeroDivisionError`.    | `print(\"Hello` → Raises `SyntaxError`.   |\n",
    "\n",
    "---\n",
    "\n"
   ]
  },
  {
   "cell_type": "markdown",
   "id": "e5f10899-7db1-40c9-a36c-3afd6e85dc80",
   "metadata": {},
   "source": [
    "#### Exception Example:"
   ]
  },
  {
   "cell_type": "code",
   "execution_count": 13,
   "id": "7e3615b7-c93e-4a10-9e58-637b53c25db3",
   "metadata": {},
   "outputs": [
    {
     "name": "stdout",
     "output_type": "stream",
     "text": [
      "Exception caught: invalid literal for int() with base 10: 'abc'\n"
     ]
    }
   ],
   "source": [
    "try:\n",
    "    value = int(\"abc\")  # Raises ValueError\n",
    "except ValueError as e:\n",
    "    print(f\"Exception caught: {e}\")\n"
   ]
  },
  {
   "cell_type": "code",
   "execution_count": null,
   "id": "9b70dbfd-edc5-4c8d-8691-ce1645b4c599",
   "metadata": {},
   "outputs": [],
   "source": []
  },
  {
   "cell_type": "markdown",
   "id": "d34b7acd-318d-47db-8c20-4e7540d8709a",
   "metadata": {},
   "source": [
    "## Q2. What happens when an exception is not handled? Explain with an example."
   ]
  },
  {
   "cell_type": "markdown",
   "id": "71c004c7-c4b0-4fa1-8c8c-cb16b90c2852",
   "metadata": {},
   "source": [
    "### When an exception is not handled in Python:\n",
    "\n",
    "    (1). The program immediately stops execution at the point where the exception occurs.\n",
    "    (2). Python displays an error traceback that shows the line of code where the exception occurred and the type of exception raised.\n",
    "    (3). The remaining code after the exception is not executed.\n",
    "#### Example of an Unhandled Exception"
   ]
  },
  {
   "cell_type": "code",
   "execution_count": 20,
   "id": "982fbdef-56ba-45c4-95fc-0443fd58a518",
   "metadata": {},
   "outputs": [
    {
     "name": "stdout",
     "output_type": "stream",
     "text": [
      "Program starts...\n"
     ]
    },
    {
     "ename": "ZeroDivisionError",
     "evalue": "division by zero",
     "output_type": "error",
     "traceback": [
      "\u001b[0;31m---------------------------------------------------------------------------\u001b[0m",
      "\u001b[0;31mZeroDivisionError\u001b[0m                         Traceback (most recent call last)",
      "Cell \u001b[0;32mIn[20], line 4\u001b[0m\n\u001b[1;32m      1\u001b[0m \u001b[38;5;28mprint\u001b[39m(\u001b[38;5;124m\"\u001b[39m\u001b[38;5;124mProgram starts...\u001b[39m\u001b[38;5;124m\"\u001b[39m)\n\u001b[1;32m      3\u001b[0m \u001b[38;5;66;03m# This will raise a ZeroDivisionError\u001b[39;00m\n\u001b[0;32m----> 4\u001b[0m result \u001b[38;5;241m=\u001b[39m \u001b[38;5;241m10\u001b[39m \u001b[38;5;241m/\u001b[39m \u001b[38;5;241m0\u001b[39m  \n\u001b[1;32m      6\u001b[0m \u001b[38;5;66;03m# This line will not execute because the exception is unhandled\u001b[39;00m\n\u001b[1;32m      7\u001b[0m \u001b[38;5;28mprint\u001b[39m(\u001b[38;5;124m\"\u001b[39m\u001b[38;5;124mThis line will not be executed.\u001b[39m\u001b[38;5;124m\"\u001b[39m)\n",
      "\u001b[0;31mZeroDivisionError\u001b[0m: division by zero"
     ]
    }
   ],
   "source": [
    "print(\"Program starts...\")\n",
    "\n",
    "# This will raise a ZeroDivisionError\n",
    "result = 10 / 0  \n",
    "\n",
    "# This line will not execute because the exception is unhandled\n",
    "print(\"This line will not be executed.\")\n"
   ]
  },
  {
   "cell_type": "markdown",
   "id": "ea75c13d-cb9b-42a4-9d03-8805897fe782",
   "metadata": {},
   "source": [
    "### Explanation\n",
    "    (1). The exception (ZeroDivisionError) is not handled, so the program terminates.\n",
    "    (2). The traceback provides details about the error, including:\n",
    "    (3). The file name (12_February_Assignment.ipynb).\n",
    "    (4). The line number where the error occurred (line 4).\n",
    "    (5). The type of exception (ZeroDivisionError).\n",
    "\n",
    "\n",
    "#### By handling the exception using a try-except block, we can prevent the program from crashing:"
   ]
  },
  {
   "cell_type": "code",
   "execution_count": 25,
   "id": "ab24a8be-cc40-42ab-99ae-90fea1f9a7b6",
   "metadata": {},
   "outputs": [
    {
     "name": "stdout",
     "output_type": "stream",
     "text": [
      "Program starts...\n",
      "Exception handled: division by zero\n",
      "Program continues...\n"
     ]
    }
   ],
   "source": [
    "print(\"Program starts...\")\n",
    "\n",
    "try:\n",
    "    result = 10 / 0\n",
    "except ZeroDivisionError as e:\n",
    "    print(f\"Exception handled: {e}\")\n",
    "\n",
    "# This line will now execute because the exception is handled\n",
    "print(\"Program continues...\")\n"
   ]
  },
  {
   "cell_type": "code",
   "execution_count": null,
   "id": "b6392f35-683d-44f0-b5e5-8f5a282f9054",
   "metadata": {},
   "outputs": [],
   "source": []
  },
  {
   "cell_type": "markdown",
   "id": "7d3a5e77-89a7-4f11-a68b-5b95906d1647",
   "metadata": {},
   "source": [
    "## Q3. Which Python statements are used to catch and handle exceptions? Explain with an example."
   ]
  },
  {
   "cell_type": "markdown",
   "id": "4ed1e575-0eb9-44dc-80f8-7860441177cc",
   "metadata": {},
   "source": [
    "### In Python, the following statements are used to catch and handle exceptions:\n",
    "\n",
    "    try: Defines a block of code to test for exceptions.\n",
    "    except: Defines a block of code to handle the exception.\n",
    "    else: (Optional) Executes a block of code if no exception occurs in the try block.\n",
    "    finally: (Optional) Executes a block of code regardless of whether an exception occurred or not.\n",
    "#### Example: Using try and except"
   ]
  },
  {
   "cell_type": "code",
   "execution_count": 30,
   "id": "0c0a9a1f-d190-4469-97a0-75437c41fa27",
   "metadata": {},
   "outputs": [
    {
     "name": "stdout",
     "output_type": "stream",
     "text": [
      "Exception caught: division by zero\n"
     ]
    }
   ],
   "source": [
    "try:\n",
    "    result = 10 / 0  # Raises ZeroDivisionError\n",
    "except ZeroDivisionError as e:\n",
    "    print(f\"Exception caught: {e}\")\n"
   ]
  },
  {
   "cell_type": "markdown",
   "id": "7ac56585-7f84-4b19-92f2-01c51d49bf91",
   "metadata": {},
   "source": [
    "#### Example: Using try, except, and else"
   ]
  },
  {
   "cell_type": "code",
   "execution_count": 33,
   "id": "b23347a8-1eb0-47e9-8953-34608d37e7d1",
   "metadata": {},
   "outputs": [
    {
     "name": "stdout",
     "output_type": "stream",
     "text": [
      "Result is: 5.0\n"
     ]
    }
   ],
   "source": [
    "try:\n",
    "    result = 10 / 2  # No exception occurs\n",
    "except ZeroDivisionError:\n",
    "    print(\"Exception occurred!\")\n",
    "else:\n",
    "    print(f\"Result is: {result}\")  # Executes if no exception occurs\n"
   ]
  },
  {
   "cell_type": "markdown",
   "id": "62fd5dcd-fb04-441b-aa2a-2151c902d11a",
   "metadata": {},
   "source": [
    "#### Example: Using try, except, and finally"
   ]
  },
  {
   "cell_type": "code",
   "execution_count": 36,
   "id": "ba73a220-557b-48c2-94fa-3b9b78f9c841",
   "metadata": {},
   "outputs": [
    {
     "name": "stdout",
     "output_type": "stream",
     "text": [
      "Exception occurred!\n",
      "This block always executes.\n"
     ]
    }
   ],
   "source": [
    "try:\n",
    "    result = 10 / 0  # Raises ZeroDivisionError\n",
    "except ZeroDivisionError:\n",
    "    print(\"Exception occurred!\")\n",
    "finally:\n",
    "    print(\"This block always executes.\")\n"
   ]
  },
  {
   "cell_type": "markdown",
   "id": "37416402-5a98-4b2e-b586-737abb8b6034",
   "metadata": {},
   "source": [
    "### Explanation of Each Statement\n",
    "   \n",
    "    try:\n",
    "    * The code that might raise an exception is placed inside the try block.\n",
    "    * If an exception occurs, the control is transferred to the except block.\n",
    "\n",
    "    except:\n",
    "    * This block handles the exception that occurred in the try block.\n",
    "    * You can specify the type of exception to catch specific errors (example, ZeroDivisionError).\n",
    "\n",
    "    else:\n",
    "    * Executes if no exception occurs in the try block.\n",
    "    * Useful for code that should only run when the try block is successful.\n",
    "\n",
    "    finally:\n",
    "    * Executes regardless of whether an exception occurred or not.\n",
    "    * Typically used for cleanup operations (example, closing files, releasing resources).\n",
    "\n",
    "#### Comprehensive Example: Using All Statements"
   ]
  },
  {
   "cell_type": "code",
   "execution_count": 40,
   "id": "c07cd57c-dee3-45b4-9114-0b8509655fa5",
   "metadata": {},
   "outputs": [
    {
     "name": "stdout",
     "output_type": "stream",
     "text": [
      "Result is: 2.0\n",
      "Execution complete.\n"
     ]
    }
   ],
   "source": [
    "try:\n",
    "    result = 10 / 5\n",
    "except ZeroDivisionError:\n",
    "    print(\"Exception occurred!\")\n",
    "else:\n",
    "    print(f\"Result is: {result}\")\n",
    "finally:\n",
    "    print(\"Execution complete.\")\n"
   ]
  },
  {
   "cell_type": "code",
   "execution_count": null,
   "id": "7fef8233-533e-49be-8738-4031f462c0ce",
   "metadata": {},
   "outputs": [],
   "source": []
  },
  {
   "cell_type": "markdown",
   "id": "de5c41f6-d9e2-4027-b170-adf2da0281ef",
   "metadata": {},
   "source": [
    "## Q4. Explain with an example:\n",
    "    a. try and else\n",
    "    b. finall\n",
    "    c. raise"
   ]
  },
  {
   "cell_type": "markdown",
   "id": "1be442ab-3ddd-4e3c-83f2-10f68a5b1e3f",
   "metadata": {},
   "source": [
    "#### a. try and else\n",
    "    * The try block is used to execute code that may raise an exception.\n",
    "    * The else block is executed only if no exception occurs in the try block.\n",
    "#### Example:"
   ]
  },
  {
   "cell_type": "code",
   "execution_count": 46,
   "id": "ffaf1646-03bd-48a7-a04b-4e4c468ca0a0",
   "metadata": {},
   "outputs": [
    {
     "name": "stdout",
     "output_type": "stream",
     "text": [
      "Division successful, result is: 5.0\n"
     ]
    }
   ],
   "source": [
    "try:\n",
    "    num = 10 / 2  # No exception occurs\n",
    "except ZeroDivisionError:\n",
    "    print(\"Division by zero error!\")\n",
    "else:\n",
    "    print(f\"Division successful, result is: {num}\")\n"
   ]
  },
  {
   "cell_type": "markdown",
   "id": "38f9fd49-b410-4b99-a072-015b73b03dd5",
   "metadata": {},
   "source": [
    "#### b. finally\n",
    "    * The finally block is executed regardless of whether an exception occurs or not.\n",
    "    * It is typically used for cleanup operations like closing files or releasing resources.\n",
    "#### Example:"
   ]
  },
  {
   "cell_type": "code",
   "execution_count": 49,
   "id": "d9a1aa4f-e601-4d51-8c13-9a55078c8abe",
   "metadata": {},
   "outputs": [
    {
     "name": "stdout",
     "output_type": "stream",
     "text": [
      "Division by zero error!\n",
      "This block always executes.\n"
     ]
    }
   ],
   "source": [
    "try:\n",
    "    num = 10 / 0  # Raises ZeroDivisionError\n",
    "except ZeroDivisionError:\n",
    "    print(\"Division by zero error!\")\n",
    "finally:\n",
    "    print(\"This block always executes.\")\n"
   ]
  },
  {
   "cell_type": "markdown",
   "id": "2a7f7e43-759d-4051-acb6-5c1709f4816a",
   "metadata": {},
   "source": [
    "#### c. raise\n",
    "    * The raise statement is used to explicitly raise an exception.\n",
    "    * It can be used to enforce constraints or signal specific errors.\n",
    "#### Example:"
   ]
  },
  {
   "cell_type": "code",
   "execution_count": 52,
   "id": "69fd863e-44cc-42d0-9d0f-83a1f1ee4c15",
   "metadata": {},
   "outputs": [
    {
     "name": "stdout",
     "output_type": "stream",
     "text": [
      "Exception caught: Age must be 18 or above.\n"
     ]
    }
   ],
   "source": [
    "def check_age(age):\n",
    "    if age < 18:\n",
    "        raise ValueError(\"Age must be 18 or above.\")\n",
    "    print(\"Access granted.\")\n",
    "\n",
    "try:\n",
    "    check_age(16)  # Raises ValueError\n",
    "except ValueError as e:\n",
    "    print(f\"Exception caught: {e}\")\n"
   ]
  },
  {
   "cell_type": "code",
   "execution_count": null,
   "id": "a1273731-8c83-4fad-849d-9b011e87a23c",
   "metadata": {},
   "outputs": [],
   "source": []
  },
  {
   "cell_type": "markdown",
   "id": "3e5e9071-f5e3-418c-b4c7-d23a07220d8c",
   "metadata": {},
   "source": [
    "## Q5. What are Custom Exceptions in python? Why do we need Custom Exceptions? Explain with an example."
   ]
  },
  {
   "cell_type": "markdown",
   "id": "b26033f0-184f-48b8-a0a1-26d1a278deb6",
   "metadata": {},
   "source": [
    "### Custom Exceptions:\n",
    "#### Custom exceptions are user-defined exceptions that allow developers to create their own error types by subclassing the built-in Exception class. These exceptions can be raised and caught like standard exceptions.\n",
    "\n",
    "### Why Do We Need Custom Exceptions?\n",
    "    (1). Specificity: Custom exceptions provide meaningful names and messages, making it easier to identify and handle specific error scenarios.\n",
    "    (2). Improved Code Clarity: They make the code more readable and self-explanatory.\n",
    "    (3). Reusable Logic: Custom exceptions can encapsulate error-handling logic for specific situations.\n",
    "#### Example: Custom Exception"
   ]
  },
  {
   "cell_type": "code",
   "execution_count": 57,
   "id": "ea8e94f9-709b-4a29-aaab-e1ef617eda0a",
   "metadata": {},
   "outputs": [
    {
     "name": "stdout",
     "output_type": "stream",
     "text": [
      "Exception caught: Cannot calculate square root of a negative number.\n"
     ]
    }
   ],
   "source": [
    "# Custom exception class\n",
    "class NegativeNumberError(Exception):\n",
    "    def __init__(self, message=\"Number cannot be negative\"):\n",
    "        self.message = message\n",
    "        super().__init__(self.message)\n",
    "\n",
    "# Function that uses the custom exception\n",
    "def calculate_square_root(number):\n",
    "    if number < 0:\n",
    "        raise NegativeNumberError(\"Cannot calculate square root of a negative number.\")\n",
    "    return number ** 0.5\n",
    "\n",
    "# Handling the custom exception\n",
    "try:\n",
    "    result = calculate_square_root(-4)\n",
    "except NegativeNumberError as e:\n",
    "    print(f\"Exception caught: {e}\")\n"
   ]
  },
  {
   "cell_type": "code",
   "execution_count": null,
   "id": "61985bc4-c19b-4caa-a67d-aacbf9fa3a8f",
   "metadata": {},
   "outputs": [],
   "source": []
  },
  {
   "cell_type": "markdown",
   "id": "70cd5f07-0d61-4143-8787-7ec06c128bd0",
   "metadata": {},
   "source": [
    "## Q6. Create a custom exception class. Use this class to handle an exception."
   ]
  },
  {
   "cell_type": "markdown",
   "id": "d6f1e764-900d-48be-8300-b548691bf108",
   "metadata": {},
   "source": [
    "#### Custom Exception Class"
   ]
  },
  {
   "cell_type": "code",
   "execution_count": 62,
   "id": "cd7da987-9a1e-413e-ade5-36703852cbf7",
   "metadata": {},
   "outputs": [],
   "source": [
    "class InsufficientFundsError(Exception):\n",
    "    def __init__(self, message=\"Insufficient funds in your account\"):\n",
    "        self.message = message\n",
    "        super().__init__(self.message)\n"
   ]
  },
  {
   "cell_type": "markdown",
   "id": "a874b5e3-e5df-4d50-95bb-fde54472040d",
   "metadata": {},
   "source": [
    "#### Using the Custom Exception"
   ]
  },
  {
   "cell_type": "code",
   "execution_count": 65,
   "id": "33131014-d5bd-4e14-ab88-30ba30c66aea",
   "metadata": {},
   "outputs": [
    {
     "name": "stdout",
     "output_type": "stream",
     "text": [
      "Error: Cannot withdraw 600. Available balance: 500\n"
     ]
    }
   ],
   "source": [
    "class BankAccount:\n",
    "    def __init__(self, balance):\n",
    "        self.balance = balance\n",
    "\n",
    "    def withdraw(self, amount):\n",
    "        if amount > self.balance:\n",
    "            raise InsufficientFundsError(f\"Cannot withdraw {amount}. Available balance: {self.balance}\")\n",
    "        self.balance -= amount\n",
    "        return self.balance\n",
    "\n",
    "# Example usage\n",
    "try:\n",
    "    account = BankAccount(500)\n",
    "    print(\"Current balance:\", account.withdraw(600))  # This will raise an exception\n",
    "except InsufficientFundsError as e:\n",
    "    print(f\"Error: {e}\")\n"
   ]
  },
  {
   "cell_type": "markdown",
   "id": "41ed817c-2ff7-4fc0-9c0c-f855c91bd293",
   "metadata": {},
   "source": [
    "### Explanation\n",
    "### Custom Exception Class:\n",
    "    (1). InsufficientFundsError inherits from the Exception class.\n",
    "    (2). It includes a default error message and can accept custom messages.\n",
    "### Usage:\n",
    "    (1). The withdraw method checks if the withdrawal amount exceeds the balance.\n",
    "    (2). If it does, the custom exception is raised.\n",
    "    (3). The exception is caught and handled in the try-except block."
   ]
  },
  {
   "cell_type": "code",
   "execution_count": null,
   "id": "4739ba13-b461-4feb-9698-a4cd33791cb0",
   "metadata": {},
   "outputs": [],
   "source": []
  }
 ],
 "metadata": {
  "kernelspec": {
   "display_name": "Python 3 (ipykernel)",
   "language": "python",
   "name": "python3"
  },
  "language_info": {
   "codemirror_mode": {
    "name": "ipython",
    "version": 3
   },
   "file_extension": ".py",
   "mimetype": "text/x-python",
   "name": "python",
   "nbconvert_exporter": "python",
   "pygments_lexer": "ipython3",
   "version": "3.11.7"
  }
 },
 "nbformat": 4,
 "nbformat_minor": 5
}
